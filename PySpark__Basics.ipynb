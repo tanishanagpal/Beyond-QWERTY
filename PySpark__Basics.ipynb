{
  "nbformat": 4,
  "nbformat_minor": 0,
  "metadata": {
    "colab": {
      "provenance": []
    },
    "kernelspec": {
      "name": "python3",
      "display_name": "Python 3"
    },
    "language_info": {
      "name": "python"
    }
  },
  "cells": [
    {
      "cell_type": "code",
      "source": [
        "!pip install pyspark py4j"
      ],
      "metadata": {
        "colab": {
          "base_uri": "https://localhost:8080/"
        },
        "id": "rfAp_sQcYcuM",
        "outputId": "037c4624-bccd-4f91-a5ca-c69da61e27df"
      },
      "execution_count": null,
      "outputs": [
        {
          "output_type": "stream",
          "name": "stdout",
          "text": [
            "Requirement already satisfied: pyspark in /usr/local/lib/python3.10/dist-packages (3.5.4)\n",
            "Requirement already satisfied: py4j in /usr/local/lib/python3.10/dist-packages (0.10.9.7)\n"
          ]
        }
      ]
    },
    {
      "cell_type": "code",
      "source": [
        "from pyspark.sql import SparkSession"
      ],
      "metadata": {
        "id": "jXOSH3XPYpNa"
      },
      "execution_count": null,
      "outputs": []
    },
    {
      "cell_type": "code",
      "source": [
        "spark = SparkSession.builder.appName(\"pyspark_basics\").getOrCreate()"
      ],
      "metadata": {
        "id": "krwBvte1YuDS"
      },
      "execution_count": null,
      "outputs": []
    },
    {
      "cell_type": "markdown",
      "source": [
        "#Create a DataFrame"
      ],
      "metadata": {
        "id": "-EXOCKNLb4Ks"
      }
    },
    {
      "cell_type": "code",
      "source": [
        "%%writefile user_simple.json\n",
        "{\"name\":\"Bob\"}\n",
        "{\"name\":\"Jim\", \"age\":40}\n",
        "{\"name\":\"Mary\", \"age\": 24}"
      ],
      "metadata": {
        "colab": {
          "base_uri": "https://localhost:8080/"
        },
        "id": "udXrSTvQYyc_",
        "outputId": "07ae62a2-9aab-426c-ef9e-248ff4e25485"
      },
      "execution_count": null,
      "outputs": [
        {
          "output_type": "stream",
          "name": "stdout",
          "text": [
            "Writing user_simple.json\n"
          ]
        }
      ]
    },
    {
      "cell_type": "code",
      "source": [
        "df = spark.read.json(\"user_simple.json\")\n",
        "df"
      ],
      "metadata": {
        "colab": {
          "base_uri": "https://localhost:8080/"
        },
        "id": "ee2oWBqQao3L",
        "outputId": "ad700e36-c727-4eae-f05c-3c40dfc08046"
      },
      "execution_count": null,
      "outputs": [
        {
          "output_type": "execute_result",
          "data": {
            "text/plain": [
              "DataFrame[age: bigint, name: string]"
            ]
          },
          "metadata": {},
          "execution_count": 6
        }
      ]
    },
    {
      "cell_type": "markdown",
      "source": [
        "#Show DataFrame"
      ],
      "metadata": {
        "id": "LAxufGCib8Hl"
      }
    },
    {
      "cell_type": "code",
      "source": [
        "df.show()"
      ],
      "metadata": {
        "colab": {
          "base_uri": "https://localhost:8080/"
        },
        "id": "pjXCq-uoawL8",
        "outputId": "0dcf57b4-2fd6-4859-bb0d-a08c897204bc"
      },
      "execution_count": null,
      "outputs": [
        {
          "output_type": "stream",
          "name": "stdout",
          "text": [
            "+----+----+\n",
            "| age|name|\n",
            "+----+----+\n",
            "|NULL| Bob|\n",
            "|  40| Jim|\n",
            "|  24|Mary|\n",
            "+----+----+\n",
            "\n"
          ]
        }
      ]
    },
    {
      "cell_type": "code",
      "source": [
        "df.printSchema()"
      ],
      "metadata": {
        "colab": {
          "base_uri": "https://localhost:8080/"
        },
        "id": "KlgMN4PVa57Y",
        "outputId": "ae20de7c-9e36-4845-9282-9bab742e7318"
      },
      "execution_count": null,
      "outputs": [
        {
          "output_type": "stream",
          "name": "stdout",
          "text": [
            "root\n",
            " |-- age: long (nullable = true)\n",
            " |-- name: string (nullable = true)\n",
            "\n"
          ]
        }
      ]
    },
    {
      "cell_type": "code",
      "source": [
        "df.columns"
      ],
      "metadata": {
        "colab": {
          "base_uri": "https://localhost:8080/"
        },
        "id": "05SdOP0ga8wj",
        "outputId": "0b4637db-e8f3-4556-ecf8-8af7c7149e38"
      },
      "execution_count": null,
      "outputs": [
        {
          "output_type": "execute_result",
          "data": {
            "text/plain": [
              "['age', 'name']"
            ]
          },
          "metadata": {},
          "execution_count": 9
        }
      ]
    },
    {
      "cell_type": "code",
      "source": [
        "df.describe()"
      ],
      "metadata": {
        "colab": {
          "base_uri": "https://localhost:8080/"
        },
        "id": "6-QxlhKRa--I",
        "outputId": "c03404b1-7a74-4629-88d7-79ba9478b8c1"
      },
      "execution_count": null,
      "outputs": [
        {
          "output_type": "execute_result",
          "data": {
            "text/plain": [
              "DataFrame[summary: string, age: string, name: string]"
            ]
          },
          "metadata": {},
          "execution_count": 10
        }
      ]
    },
    {
      "cell_type": "code",
      "source": [
        "df.describe().show()"
      ],
      "metadata": {
        "colab": {
          "base_uri": "https://localhost:8080/"
        },
        "id": "_uv6xehFbBUA",
        "outputId": "a6bd1bcc-835e-4fb4-b4b0-1778e6efe708"
      },
      "execution_count": null,
      "outputs": [
        {
          "output_type": "stream",
          "name": "stdout",
          "text": [
            "+-------+------------------+----+\n",
            "|summary|               age|name|\n",
            "+-------+------------------+----+\n",
            "|  count|                 2|   3|\n",
            "|   mean|              32.0|NULL|\n",
            "| stddev|11.313708498984761|NULL|\n",
            "|    min|                24| Bob|\n",
            "|    max|                40|Mary|\n",
            "+-------+------------------+----+\n",
            "\n"
          ]
        }
      ]
    },
    {
      "cell_type": "markdown",
      "source": [
        "#Specifying Schema Structure"
      ],
      "metadata": {
        "id": "aNrFxgcycBYZ"
      }
    },
    {
      "cell_type": "code",
      "source": [
        "from pyspark.sql.types import StructField, StringType, IntegerType, StructType\n",
        "data_schema = [StructField(\"age\", IntegerType(), True), StructField(\"name\",StringType(), True)]\n",
        "final_struc = StructType(fields=data_schema)\n",
        "df = spark.read.json(\"user_simple.json\", schema=final_struc)\n",
        "df.printSchema()"
      ],
      "metadata": {
        "colab": {
          "base_uri": "https://localhost:8080/"
        },
        "id": "68tnHHsObFLg",
        "outputId": "5f2d8ce9-862c-4a4f-c14b-25af2267875f"
      },
      "execution_count": null,
      "outputs": [
        {
          "output_type": "stream",
          "name": "stdout",
          "text": [
            "root\n",
            " |-- age: integer (nullable = true)\n",
            " |-- name: string (nullable = true)\n",
            "\n"
          ]
        }
      ]
    },
    {
      "cell_type": "code",
      "source": [
        "df.show()"
      ],
      "metadata": {
        "colab": {
          "base_uri": "https://localhost:8080/"
        },
        "id": "2wavM2ulbNPV",
        "outputId": "e03ef078-6d0c-44a2-dbd8-7a3ccb8d3b22"
      },
      "execution_count": null,
      "outputs": [
        {
          "output_type": "stream",
          "name": "stdout",
          "text": [
            "+----+----+\n",
            "| age|name|\n",
            "+----+----+\n",
            "|NULL| Bob|\n",
            "|  40| Jim|\n",
            "|  24|Mary|\n",
            "+----+----+\n",
            "\n"
          ]
        }
      ]
    },
    {
      "cell_type": "markdown",
      "source": [
        "#Create new Columns and Replace Columns"
      ],
      "metadata": {
        "id": "ModdhREPcGls"
      }
    },
    {
      "cell_type": "code",
      "source": [
        "df.withColumn(\"newAge\", df['age']).show()"
      ],
      "metadata": {
        "colab": {
          "base_uri": "https://localhost:8080/"
        },
        "id": "WI0emvH-bS9J",
        "outputId": "e3d3742e-d69e-442a-d66b-01f0628e8493"
      },
      "execution_count": null,
      "outputs": [
        {
          "output_type": "stream",
          "name": "stdout",
          "text": [
            "+----+----+------+\n",
            "| age|name|newAge|\n",
            "+----+----+------+\n",
            "|NULL| Bob|  NULL|\n",
            "|  40| Jim|    40|\n",
            "|  24|Mary|    24|\n",
            "+----+----+------+\n",
            "\n"
          ]
        }
      ]
    },
    {
      "cell_type": "code",
      "source": [
        "df.show()"
      ],
      "metadata": {
        "colab": {
          "base_uri": "https://localhost:8080/"
        },
        "id": "N3CkI5m8behE",
        "outputId": "b08669e0-0b3b-486d-dc53-892a8901ebf8"
      },
      "execution_count": null,
      "outputs": [
        {
          "output_type": "stream",
          "name": "stdout",
          "text": [
            "+----+----+\n",
            "| age|name|\n",
            "+----+----+\n",
            "|NULL| Bob|\n",
            "|  40| Jim|\n",
            "|  24|Mary|\n",
            "+----+----+\n",
            "\n"
          ]
        }
      ]
    },
    {
      "cell_type": "code",
      "source": [
        "df.withColumnRenamed(\"name\",\"firstName\").show()"
      ],
      "metadata": {
        "colab": {
          "base_uri": "https://localhost:8080/"
        },
        "id": "L6CWbXTXbidn",
        "outputId": "acf4c893-3ddd-4b09-8365-e8b2a0344334"
      },
      "execution_count": null,
      "outputs": [
        {
          "output_type": "stream",
          "name": "stdout",
          "text": [
            "+----+---------+\n",
            "| age|firstName|\n",
            "+----+---------+\n",
            "|NULL|      Bob|\n",
            "|  40|      Jim|\n",
            "|  24|     Mary|\n",
            "+----+---------+\n",
            "\n"
          ]
        }
      ]
    },
    {
      "cell_type": "code",
      "source": [
        "df.show()"
      ],
      "metadata": {
        "colab": {
          "base_uri": "https://localhost:8080/"
        },
        "id": "XznGN4vpblkf",
        "outputId": "5a05e0fc-971a-4bb6-e803-314cffa07d84"
      },
      "execution_count": null,
      "outputs": [
        {
          "output_type": "stream",
          "name": "stdout",
          "text": [
            "+----+----+\n",
            "| age|name|\n",
            "+----+----+\n",
            "|NULL| Bob|\n",
            "|  40| Jim|\n",
            "|  24|Mary|\n",
            "+----+----+\n",
            "\n"
          ]
        }
      ]
    },
    {
      "cell_type": "markdown",
      "source": [
        "#Closing the session"
      ],
      "metadata": {
        "id": "QA9eF-lLcilD"
      }
    },
    {
      "cell_type": "code",
      "source": [
        "spark.stop()"
      ],
      "metadata": {
        "id": "BN4AISzbccUn"
      },
      "execution_count": null,
      "outputs": []
    }
  ]
}