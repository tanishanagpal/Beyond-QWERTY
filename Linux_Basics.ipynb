{
  "nbformat": 4,
  "nbformat_minor": 0,
  "metadata": {
    "colab": {
      "provenance": []
    },
    "kernelspec": {
      "name": "python3",
      "display_name": "Python 3"
    },
    "language_info": {
      "name": "python"
    }
  },
  "cells": [
    {
      "cell_type": "code",
      "source": [
        "!pwd"
      ],
      "metadata": {
        "id": "z7xASzqUcyPU",
        "colab": {
          "base_uri": "https://localhost:8080/"
        },
        "outputId": "0019e4d0-ed7e-46c0-88a7-4a6c0defe384"
      },
      "execution_count": 1,
      "outputs": [
        {
          "output_type": "stream",
          "name": "stdout",
          "text": [
            "/content\n"
          ]
        }
      ]
    },
    {
      "cell_type": "code",
      "source": [
        "!ls"
      ],
      "metadata": {
        "colab": {
          "base_uri": "https://localhost:8080/"
        },
        "id": "a8nh0k9rdgRP",
        "outputId": "ddc50ca5-2eb0-4216-fa54-86890bc36adc"
      },
      "execution_count": 2,
      "outputs": [
        {
          "output_type": "stream",
          "name": "stdout",
          "text": [
            "sample_data\n"
          ]
        }
      ]
    },
    {
      "cell_type": "code",
      "source": [
        "! mkdir Asia"
      ],
      "metadata": {
        "id": "OfcJQzQ8hHLV"
      },
      "execution_count": 3,
      "outputs": []
    },
    {
      "cell_type": "code",
      "source": [
        "!mkdir Europe"
      ],
      "metadata": {
        "id": "ckVj898qhJGu"
      },
      "execution_count": 4,
      "outputs": []
    },
    {
      "cell_type": "code",
      "source": [
        "!cd Asia"
      ],
      "metadata": {
        "id": "m3k--8qRhOJO"
      },
      "execution_count": 5,
      "outputs": []
    },
    {
      "cell_type": "code",
      "source": [
        "!mkdir -p India/Mumbai"
      ],
      "metadata": {
        "id": "-ktDdkTthUV-"
      },
      "execution_count": 6,
      "outputs": []
    },
    {
      "cell_type": "code",
      "source": [
        "!cd .."
      ],
      "metadata": {
        "id": "srDGQAjyhWkV"
      },
      "execution_count": 7,
      "outputs": []
    },
    {
      "cell_type": "code",
      "source": [
        "!touch Europe/France.txt"
      ],
      "metadata": {
        "id": "aZh5nCeMjeuA"
      },
      "execution_count": 8,
      "outputs": []
    }
  ]
}