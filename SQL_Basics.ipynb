{
  "nbformat": 4,
  "nbformat_minor": 0,
  "metadata": {
    "colab": {
      "provenance": []
    },
    "kernelspec": {
      "name": "python3",
      "display_name": "Python 3"
    },
    "language_info": {
      "name": "python"
    }
  },
  "cells": [
    {
      "cell_type": "markdown",
      "source": [
        "#𝐁𝐚𝐬𝐢𝐜 𝐒𝐐𝐋 𝐂𝐨𝐧𝐜𝐞𝐩𝐭𝐬"
      ],
      "metadata": {
        "id": "i0mmkzQNu98p"
      }
    },
    {
      "cell_type": "markdown",
      "source": [
        "1. What is SQL, and why is it important in data analytics?\n",
        "\n",
        "Ans. SQL stands for Structured Query Language. It is a powerful programming language used to manage and manipulate data in relational databases.\n",
        "\n",
        "It's crucial for data analytics:\n",
        "\n",
        "**Data Retrieval:** SQL allows analysts to efficiently extract specific data from large datasets based on various criteria. This is essential for building reports, visualizations, and performing in-depth analysis.\n",
        "\n",
        "**Data Manipulation:** SQL enables analysts to clean, transform, and prepare data for analysis. This includes tasks like filtering, sorting, joining tables, and aggregating data.\n",
        "\n",
        "**Data Definition:** SQL can be used to create, modify, and delete tables and databases, ensuring that the data is organized and structured effectively for analysis.\n",
        "\n",
        "**Industry Standard:** SQL is widely adopted across various industries and organizations. Proficiency in SQL is a highly valuable skill for data analysts and other professionals working with data."
      ],
      "metadata": {
        "id": "Atnoc0SdNXoC"
      }
    },
    {
      "cell_type": "markdown",
      "source": [
        "2. Explain the difference between INNER JOIN, LEFT JOIN, RIGHT JOIN, and FULL OUTER JOIN.\n",
        "\n",
        "Ans. **INNER JOIN**\n",
        "Returns: Rows that have matching values in both tables.\n",
        "\n",
        "**LEFT JOIN**\n",
        "Returns: All rows from the left table, and the matching rows from the right table. If there's no match in the right table, it returns NULL values.\n",
        "\n",
        " **RIGHT JOIN**\n",
        "Returns: All rows from the right table, and the matching rows from the left table. If there's no match in the left table, it returns NULL values.\n",
        "\n",
        "**FULL OUTER JOIN**\n",
        "Returns: All rows from both tables, including unmatched rows from either side.1 For unmatched rows, it returns NULL values for the columns from the other table."
      ],
      "metadata": {
        "id": "XAlB-vttN5W4"
      }
    },
    {
      "cell_type": "markdown",
      "source": [
        "3. What is the difference between WHERE and HAVING clauses?\n",
        "\n",
        "Ans.The WHERE and HAVING clauses both filter data in SQL, but they operate at different stages of the query execution process:\n",
        "\n",
        "**WHERE Clause:**\n",
        "Filters individual rows before they are grouped.\n",
        "Cannot use aggregate functions (like SUM, AVG, COUNT) directly within the WHERE clause.\n",
        "\n",
        "**HAVING Clause:**\n",
        "Filters groups of rows after they have been aggregated.\n",
        "Can use aggregate functions to filter groups based on their aggregated values"
      ],
      "metadata": {
        "id": "S3hAWRbzOjpf"
      }
    },
    {
      "cell_type": "markdown",
      "source": [
        "4. How do you use GROUP BY and HAVING in a query?"
      ],
      "metadata": {
        "id": "JCK1CiBcPGaW"
      }
    },
    {
      "cell_type": "code",
      "source": [
        "SELECT CustomerID, SUM(Amount) AS TotalSales\n",
        "FROM Sales\n",
        "WHERE TotalSales > 200\n",
        "GROUP BY CustomerID;"
      ],
      "metadata": {
        "id": "waQPyforO9BR"
      },
      "execution_count": null,
      "outputs": []
    },
    {
      "cell_type": "code",
      "source": [
        "SELECT CustomerID, SUM(Amount) AS TotalSales\n",
        "FROM Sales\n",
        "GROUP BY CustomerID\n",
        "HAVING TotalSales > 200;"
      ],
      "metadata": {
        "id": "g8LTo4WdO-Tx"
      },
      "execution_count": null,
      "outputs": []
    },
    {
      "cell_type": "markdown",
      "source": [
        "5. Write a query to find duplicate records in a table.\n"
      ],
      "metadata": {
        "id": "PID-QSY2O2de"
      }
    },
    {
      "cell_type": "code",
      "source": [
        "SELECT FirstName, LastName\n",
        "FROM Customers\n",
        "GROUP BY FirstName, LastName\n",
        "HAVING COUNT(*) > 1;"
      ],
      "metadata": {
        "id": "qKbaH2qcPSDj"
      },
      "execution_count": null,
      "outputs": []
    },
    {
      "cell_type": "markdown",
      "source": [
        "HAVING COUNT(*) > 1: This filters the groups, keeping only those where the count of rows in the group is greater than one. This identifies groups with duplicate values."
      ],
      "metadata": {
        "id": "W2Ol9fPnPTRt"
      }
    },
    {
      "cell_type": "markdown",
      "source": [
        "6. How do you retrieve unique values from a table using SQL?\n",
        "\n",
        "Ans. Using **SQL DISTINCT Keyword**\n",
        "\n",
        "The DISTINCT keyword in SQL is used to eliminate duplicate rows from the result-set of a SELECT statement."
      ],
      "metadata": {
        "id": "I57E3r1XPdFB"
      }
    },
    {
      "cell_type": "code",
      "source": [
        "SELECT DISTINCT City\n",
        "FROM Customers;"
      ],
      "metadata": {
        "id": "7DLtdqIwPqnq"
      },
      "execution_count": null,
      "outputs": []
    },
    {
      "cell_type": "markdown",
      "source": [
        "7. Explain the use of aggregate functions like COUNT(), SUM(), AVG(), MIN(), and MAX().\n",
        "\n",
        "Ans.**COUNT()**: Counts the number of rows or non-NULL values in a specified column.\n",
        "\n",
        "**SUM():**Calculates the sum of all values in a specified column.\n",
        "\n",
        "**AVG():** Calculates the average (mean) of all values in a specified column.\n",
        "\n",
        "**MIN():** Finds the minimum value in a specified column.\n",
        "\n",
        "**MAX():** Finds the maximum value in a specified column."
      ],
      "metadata": {
        "id": "kXlyKbnjPyKI"
      }
    },
    {
      "cell_type": "code",
      "source": [
        "SELECT COUNT(*) AS TotalOrders\n",
        "FROM Orders;\n",
        "\n",
        "SELECT SUM(TotalAmount) AS TotalSales\n",
        "FROM Orders;\n",
        "\n",
        "SELECT AVG(TotalAmount) AS AvgOrderAmount\n",
        "FROM Orders;\n",
        "\n",
        "SELECT MAX(OrderDate) AS LatestOrderDate\n",
        "FROM Orders;"
      ],
      "metadata": {
        "id": "8Lxu417pQgIj"
      },
      "execution_count": null,
      "outputs": []
    },
    {
      "cell_type": "markdown",
      "source": [
        "8. What is the purpose of a DISTINCT keyword in SQL?\n",
        "\n",
        "Ans. The DISTINCT keyword in SQL is used to eliminate duplicate rows from the result-set of a SELECT statement.\n",
        "\n",
        "**Retrieve Unique Values:** It ensures that only unique values are returned for the specified column(s).\n",
        "**Data Cleaning:** Helps remove redundant data, making your results more concise and easier to analyze."
      ],
      "metadata": {
        "id": "TiW9RdqAQqrE"
      }
    },
    {
      "cell_type": "markdown",
      "source": [
        "# 𝐈𝐧𝐭𝐞𝐫𝐦𝐞𝐝𝐢𝐚𝐭𝐞 𝐒𝐐𝐋"
      ],
      "metadata": {
        "id": "dDqExqDZvBUY"
      }
    },
    {
      "cell_type": "markdown",
      "source": [
        "1. Write a query to find the second-highest salary from an employee table."
      ],
      "metadata": {
        "id": "WuT9cFvsvXWS"
      }
    },
    {
      "cell_type": "code",
      "source": [
        "SELECT MAX(Salary)\n",
        "FROM Employee\n",
        "WHERE Salary < (SELECT MAX(Salary) FROM Employee);"
      ],
      "metadata": {
        "id": "GWgtiFERvWNJ"
      },
      "execution_count": null,
      "outputs": []
    },
    {
      "cell_type": "markdown",
      "source": [
        "2. What are subqueries and how do you use them?\n",
        "\n",
        "Ans. A subquery, also known as a nested query or inner query, is a query embedded within another SQL statement. It's a powerful tool that allows you to perform complex data retrieval and manipulation by executing one query within the context of another.\n",
        "\n",
        "Common Uses of Subqueries:\n",
        "\n",
        "**Filtering Data using WHERE Clause:**\n",
        "\n",
        "Example: Find employees whose salary is greater than the average salary of all employees."
      ],
      "metadata": {
        "id": "kR8Bo7zlvZqh"
      }
    },
    {
      "cell_type": "code",
      "source": [
        "SELECT *\n",
        "FROM employees\n",
        "WHERE salary > (SELECT AVG(salary) FROM employees);"
      ],
      "metadata": {
        "id": "np-Ru4YBvb_e"
      },
      "execution_count": null,
      "outputs": []
    },
    {
      "cell_type": "markdown",
      "source": [
        "**Comparing Values:**\n",
        "\n",
        "Example: Find departments that have more employees than the 'Sales' department."
      ],
      "metadata": {
        "id": "g7DC1naXwHA2"
      }
    },
    {
      "cell_type": "code",
      "source": [
        "SELECT department_name\n",
        "FROM departments\n",
        "WHERE num_employees > (SELECT num_employees FROM departments WHERE department_name = 'Sales');"
      ],
      "metadata": {
        "id": "_ucF8MSxwNnH"
      },
      "execution_count": null,
      "outputs": []
    },
    {
      "cell_type": "markdown",
      "source": [
        "3. What is a Common Table Expression (CTE)? Give an example of when to use it.\n",
        "\n",
        "Ans. A Common Table Expression (CTE) is a named, temporary result set that you define within a SQL statement. It's like a reusable subquery that you can reference multiple times within the same query. CTEs are particularly useful for breaking down complex queries into smaller, more manageable parts, improving readability and maintainability"
      ],
      "metadata": {
        "id": "o2hQFrTFwSSp"
      }
    },
    {
      "cell_type": "code",
      "source": [
        "WITH AvgSalaries AS (\n",
        "    SELECT department_id, AVG(salary) AS avg_salary\n",
        "    FROM employees\n",
        "    GROUP BY department_id\n",
        ")\n",
        "SELECT e.*\n",
        "FROM employees e\n",
        "JOIN AvgSalaries a ON e.department_id = a.department_id\n",
        "WHERE e.salary > a.avg_salary;"
      ],
      "metadata": {
        "id": "yogD0MDBwjkd"
      },
      "execution_count": null,
      "outputs": []
    },
    {
      "cell_type": "markdown",
      "source": [
        "4. Explain window functions like ROW_NUMBER(), RANK(), and DENSE_RANK().\n",
        "\n",
        "Ans. Window functions are a powerful tool in SQL that allow you to perform calculations across a set of rows related to the current row. They are different from aggregate functions like SUM, AVG, or COUNT because they return a result for each row in the dataset, rather than a single value for a group of rows.\n",
        "\n",
        "**ROW_NUMBER():**\n",
        "Assigns a unique, sequential integer to each row within a partition.\n",
        "Useful for ranking rows within a group or for selecting specific rows based on their order.\n",
        "\n",
        "**RANK():**\n",
        "Assigns a rank to each row within a partition based on a specified order.\n",
        "If multiple rows have the same value for the ranking column, they are assigned the same rank, and the next rank is skipped.\n",
        "\n",
        "**DENSE_RANK():**\n",
        "Similar to RANK(), but assigns a rank to each row within a partition based on a specified order.\n",
        "If multiple rows have the same value for the ranking column, they are assigned the same rank, but the next rank is not skipped."
      ],
      "metadata": {
        "id": "d0WmnMA0wozn"
      }
    },
    {
      "cell_type": "markdown",
      "source": [
        "5. How do you combine results of two queries using UNION and UNION ALL?\n",
        "\n",
        "Ans. In SQL, UNION and UNION ALL are set operators used to combine the result sets of two or more SELECT statements into a single result set. The key difference lies in their handling of duplicate rows.\n",
        "\n",
        "**UNION :**\n",
        "Removes duplicates by combining the results of the specified queries and removes any duplicate rows.\n",
        "\n",
        "**UNION ALL :**\n",
        "Includes all rows by combining the results of the specified queries and includes all rows, including duplicates."
      ],
      "metadata": {
        "id": "zTfJlbNLxGLX"
      }
    },
    {
      "cell_type": "markdown",
      "source": [
        "6. What are indexes in SQL, and how do they improve query performance?\n",
        "\n",
        "Ans. In SQL databases, an index is a data structure that significantly speeds up data retrieval operations.\n",
        "It's essentially a sorted list of pointers to the rows in a table, based on the values of one or more columns. Think of it as an index in a book – it helps you quickly locate specific information without having to read the entire book.\n",
        "\n",
        "**How Indexes Improve Query Performance:**\n",
        "\n",
        "**Faster Data Retrieval:**\n",
        "Instead of scanning every row in a table, the database engine can use the index to quickly locate the relevant rows based on the query's WHERE clause.\n",
        "This is especially beneficial for queries that involve filtering data based on specific column values (e.g., WHERE customer_id = 123).\n",
        "\n",
        "**Reduced I/O Operations:**\n",
        "Indexes can reduce the number of disk reads required to retrieve data, as the index itself is often stored in memory.\n",
        "This leads to faster query execution times, especially for large tables.\n",
        "\n",
        "\n"
      ],
      "metadata": {
        "id": "nkL_Za30xy0z"
      }
    },
    {
      "cell_type": "markdown",
      "source": [
        "7. Write a query to calculate the total sales for each month using GROUP BY.\n"
      ],
      "metadata": {
        "id": "Fhx7vB6vyMnp"
      }
    },
    {
      "cell_type": "code",
      "source": [
        "SELECT\n",
        "    DATE_TRUNC('month', order_date) AS month,\n",
        "    SUM(amount) AS total_sales\n",
        "FROM\n",
        "    orders\n",
        "GROUP BY\n",
        "    month;"
      ],
      "metadata": {
        "id": "nywL8nfHyVvn"
      },
      "execution_count": null,
      "outputs": []
    },
    {
      "cell_type": "markdown",
      "source": [
        "#𝐀𝐝𝐯𝐚𝐧𝐜𝐞𝐝 𝐒𝐐𝐋"
      ],
      "metadata": {
        "id": "s7Dqj-x8yZ2s"
      }
    },
    {
      "cell_type": "markdown",
      "source": [
        "1. How do you optimize a slow-running SQL query?\n",
        "\n",
        "Ans. 1. **Identify the Bottleneck**\n",
        "\n",
        "Use the database's built-in tools (e.g., EXPLAIN in MySQL, EXPLAIN PLAN in Oracle) to visualize the query execution plan. This shows how the database is processing the query, highlighting potential bottlenecks (e.g., table scans, slow joins).\n",
        "\n",
        "Utilize profiling tools to pinpoint resource-intensive parts of the query (e.g., CPU usage, I/O wait).\n",
        "\n",
        "**2. Optimize Data Retrieval**\n",
        "\n",
        " Apply WHERE clauses early to filter out unnecessary data.\n",
        "\n",
        "Only select the necessary columns using SELECT. Avoid using SELECT *.\n",
        "\n",
        "Use subqueries judiciously to minimize the amount of data processed at each stage."
      ],
      "metadata": {
        "id": "KFVtT6Z2ybmg"
      }
    },
    {
      "cell_type": "markdown",
      "source": [
        "2. What are views in SQL, and when would you use them?\n",
        "\n",
        "Ans. In SQL, a view is a virtual table that doesn't actually store any data itself. Instead, it's defined by a SQL query that retrieves data from one or more underlying tables.\n",
        "\n",
        "It can be used as:\n",
        "\n",
        "**Data Abstraction:**\n",
        "\n",
        "Views can encapsulate complex join conditions or subqueries, making it easier for users to access specific data without needing to understand the underlying table structure.\n",
        "\n",
        "Views can restrict access to specific columns or rows in underlying tables, enhancing data security and privacy.\n",
        "\n",
        "**Data Presentation:**\n",
        "\n",
        "Views can be used to present data in a specific format or with calculated columns.\n",
        "\n",
        "Create views to summarize data, such as sales totals for each month or customer demographics."
      ],
      "metadata": {
        "id": "PlKFsftZy6jP"
      }
    },
    {
      "cell_type": "markdown",
      "source": [
        "3. What is the difference between a stored procedure and a function in SQL?\n",
        "\n",
        "Ans. **Stored Procedures**\n",
        "\n",
        "**Purpose:** To encapsulate a set of SQL statements that perform a specific task.\n",
        "\n",
        "**Functionality:** Can perform various actions, including data retrieval, insertion, updates, deletions, and complex business logic.\n",
        "\n",
        "**Return Value:** May or may not return a result set.\n",
        "\n",
        "**Parameters:** Can have input, output, or both types of parameters.\n",
        "\n",
        "**Usability:** Can be called independently or from within other stored procedures.\n",
        "\n",
        "**Example:** A procedure to insert a new customer record, update inventory levels, or process a complex order.\n",
        "\n",
        "**Functions**\n",
        "\n",
        "**Purpose:** To perform a specific calculation or data retrieval operation and return a single value or a table.\n",
        "\n",
        "**Functionality:** Primarily focused on data retrieval and calculations.\n",
        "\n",
        "**Return Value:** Must always return a value (scalar value or a table).\n",
        "\n",
        "**Parameters:** Typically have input parameters only.\n",
        "\n",
        "**Usability:** Can be used within SQL statements (e.g., in the WHERE clause, SELECT statement).\n",
        "\n",
        "**Example:** A function to calculate the total sales for a given month, to find the maximum salary in a department, or to retrieve a list of customers in a specific city."
      ],
      "metadata": {
        "id": "m1VxBpybzc52"
      }
    },
    {
      "cell_type": "markdown",
      "source": [
        "4. Explain the difference between TRUNCATE, DELETE, and DROP commands.\n",
        "\n",
        "Ans. **DELETE**: Removes specific rows from a table based on a condition. It Can be rolled back within a transaction. It is slower than TRUNCATE, especially for large tables."
      ],
      "metadata": {
        "id": "W8p27dfPz_ZX"
      }
    },
    {
      "cell_type": "code",
      "source": [
        "DELETE FROM Customers\n",
        "WHERE City = 'New York';"
      ],
      "metadata": {
        "id": "bArnLYSk0b9r"
      },
      "execution_count": null,
      "outputs": []
    },
    {
      "cell_type": "markdown",
      "source": [
        "**TRUNCATE**: Removes all rows from a table. It generally cannot be rolled back.It is faster than DELETE."
      ],
      "metadata": {
        "id": "nGJ9-nrk0cj-"
      }
    },
    {
      "cell_type": "code",
      "source": [
        "TRUNCATE TABLE Customers;"
      ],
      "metadata": {
        "id": "WsDvtnrh0ugd"
      },
      "execution_count": null,
      "outputs": []
    },
    {
      "cell_type": "markdown",
      "source": [
        "**DROP**: Removes the entire table and its structure from the database. It Cannot be rolled back."
      ],
      "metadata": {
        "id": "0OUqs7SJ0yB6"
      }
    },
    {
      "cell_type": "code",
      "source": [
        "DROP TABLE Customers;"
      ],
      "metadata": {
        "id": "hk6A20sB07tT"
      },
      "execution_count": null,
      "outputs": []
    },
    {
      "cell_type": "markdown",
      "source": [
        "5. What are windowing functions, and how are they used in analytics?\n",
        "\n",
        "Ans. Window Functions in SQL: A Powerful Tool for Analytics\n",
        "\n",
        "Window functions are a special type of function in SQL that perform calculations across a set of rows related to the current row. Unlike aggregate functions like SUM or AVG, which typically collapse multiple rows into a single result, window functions return a result for each row in the dataset.\n",
        "\n",
        "**RANK():** Assigns a rank to each row within a partition. If multiple rows have the same value for the ranking column, they are assigned the same rank, and the next rank is skipped.\n",
        "\n",
        "**DENSE_RANK():** Similar to RANK(), but assigns a rank to each row without skipping ranks for ties.\n",
        "\n",
        "**ROW_NUMBER():** Assigns a unique, sequential integer to each row within a partition.\n",
        "\n",
        "**Applications in Analytics**\n",
        "\n",
        "**Time Series Analysis:** Calculating moving averages, identifying trends, and detecting anomalies.\n",
        "\n",
        "**Ranking and Segmentation:** Ranking customers, products, or other entities based on various criteria.\n",
        "\n",
        "**Data Comparison:** Comparing current values to previous values (e.g., year-over-year growth).\n",
        "\n",
        "**Cumulative Calculations:** Calculating running totals, cumulative sums, and other cumulative measures."
      ],
      "metadata": {
        "id": "uLmz517o1BH5"
      }
    },
    {
      "cell_type": "markdown",
      "source": [
        "6. How do you use PARTITION BY and ORDER BY in window functions?\n",
        "\n",
        "Ans. **PARTITION BY**:\n",
        "\n",
        "Divides the entire result set into smaller, distinct partitions or groups.\n",
        "\n",
        "The window function is applied independently within each partition."
      ],
      "metadata": {
        "id": "IrDSbxYw1n2n"
      }
    },
    {
      "cell_type": "code",
      "source": [
        "SELECT\n",
        "    department_id,\n",
        "    employee_id,\n",
        "    salary,\n",
        "    AVG(salary) OVER (PARTITION BY department_id) AS avg_dept_salary\n",
        "FROM\n",
        "    employees;"
      ],
      "metadata": {
        "id": "PsHiRhSI119j"
      },
      "execution_count": null,
      "outputs": []
    },
    {
      "cell_type": "markdown",
      "source": [
        "**ORDER BY**:\n",
        "\n",
        "Defines the order of rows within each partition.\n",
        "\n",
        "Crucial for functions like RANK(), DENSE_RANK(), ROW_NUMBER(), LAG(), LEAD(), and cumulative functions (e.g., SUM(), AVG())."
      ],
      "metadata": {
        "id": "RXzMSpDx17M1"
      }
    },
    {
      "cell_type": "code",
      "source": [
        "SELECT\n",
        "    employee_id,\n",
        "    salary,\n",
        "    RANK() OVER (ORDER BY salary DESC) AS employee_rank\n",
        "FROM\n",
        "    employees;"
      ],
      "metadata": {
        "id": "-oDUU0Ay2EG-"
      },
      "execution_count": null,
      "outputs": []
    },
    {
      "cell_type": "markdown",
      "source": [
        "7. How do you handle NULL values in SQL, and what functions help with that (e.g., COALESCE, ISNULL)?\n",
        "\n",
        "Ans. **1. Identifying NULL Values**\n",
        "\n",
        "**IS NULL:** This operator checks if a value is NULL."
      ],
      "metadata": {
        "id": "Q_Uuo0oE2Fyr"
      }
    },
    {
      "cell_type": "code",
      "source": [
        "SELECT *\n",
        "FROM customers\n",
        "WHERE phone IS NULL;"
      ],
      "metadata": {
        "id": "5VL-Ss8F2YpC"
      },
      "execution_count": null,
      "outputs": []
    },
    {
      "cell_type": "markdown",
      "source": [
        "**IS NOT NULL:** This operator checks if a value is not NULL."
      ],
      "metadata": {
        "id": "gwr3nRSF2aNH"
      }
    },
    {
      "cell_type": "code",
      "source": [
        "SELECT *\n",
        "FROM customers\n",
        "WHERE phone IS NOT NULL;"
      ],
      "metadata": {
        "id": "G4GGmWGv2fo0"
      },
      "execution_count": null,
      "outputs": []
    },
    {
      "cell_type": "markdown",
      "source": [
        "**2. Replacing NULL Values**\n",
        "\n",
        "**COALESCE():** This function returns the first non-NULL value from a list of expressions."
      ],
      "metadata": {
        "id": "AiKrBvR32kjA"
      }
    },
    {
      "cell_type": "code",
      "source": [
        "SELECT customer_name, COALESCE(phone, 'No Phone Number') AS phone_number\n",
        "FROM customers;"
      ],
      "metadata": {
        "id": "6t59mQ722pBa"
      },
      "execution_count": null,
      "outputs": []
    },
    {
      "cell_type": "markdown",
      "source": [
        "**ISNULL() (SQL Server specific):** Similar to COALESCE(), it returns the first non-NULL value."
      ],
      "metadata": {
        "id": "VMOuJO6w2rTr"
      }
    },
    {
      "cell_type": "code",
      "source": [
        "SELECT customer_name, ISNULL(phone, 'No Phone Number') AS phone_number\n",
        "FROM customers;"
      ],
      "metadata": {
        "id": "5UH9nbzi2xS3"
      },
      "execution_count": null,
      "outputs": []
    }
  ]
}