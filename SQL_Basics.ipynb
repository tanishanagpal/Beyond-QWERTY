{
  "nbformat": 4,
  "nbformat_minor": 0,
  "metadata": {
    "colab": {
      "provenance": []
    },
    "kernelspec": {
      "name": "python3",
      "display_name": "Python 3"
    },
    "language_info": {
      "name": "python"
    }
  },
  "cells": [
    {
      "cell_type": "markdown",
      "source": [
        "1. What is SQL, and why is it important in data analytics?\n",
        "\n",
        "Ans. SQL stands for Structured Query Language. It is a powerful programming language used to manage and manipulate data in relational databases.\n",
        "\n",
        "It's crucial for data analytics:\n",
        "\n",
        "**Data Retrieval:** SQL allows analysts to efficiently extract specific data from large datasets based on various criteria. This is essential for building reports, visualizations, and performing in-depth analysis.\n",
        "\n",
        "**Data Manipulation:** SQL enables analysts to clean, transform, and prepare data for analysis. This includes tasks like filtering, sorting, joining tables, and aggregating data.\n",
        "\n",
        "**Data Definition:** SQL can be used to create, modify, and delete tables and databases, ensuring that the data is organized and structured effectively for analysis.\n",
        "\n",
        "**Industry Standard:** SQL is widely adopted across various industries and organizations. Proficiency in SQL is a highly valuable skill for data analysts and other professionals working with data."
      ],
      "metadata": {
        "id": "Atnoc0SdNXoC"
      }
    },
    {
      "cell_type": "markdown",
      "source": [
        "2. Explain the difference between INNER JOIN, LEFT JOIN, RIGHT JOIN, and FULL OUTER JOIN.\n",
        "\n",
        "Ans. **INNER JOIN**\n",
        "Returns: Rows that have matching values in both tables.\n",
        "\n",
        "**LEFT JOIN**\n",
        "Returns: All rows from the left table, and the matching rows from the right table. If there's no match in the right table, it returns NULL values.\n",
        "\n",
        " **RIGHT JOIN**\n",
        "Returns: All rows from the right table, and the matching rows from the left table. If there's no match in the left table, it returns NULL values.\n",
        "\n",
        "**FULL OUTER JOIN**\n",
        "Returns: All rows from both tables, including unmatched rows from either side.1 For unmatched rows, it returns NULL values for the columns from the other table."
      ],
      "metadata": {
        "id": "XAlB-vttN5W4"
      }
    },
    {
      "cell_type": "markdown",
      "source": [
        "3. What is the difference between WHERE and HAVING clauses?\n",
        "\n",
        "Ans.The WHERE and HAVING clauses both filter data in SQL, but they operate at different stages of the query execution process:\n",
        "\n",
        "**WHERE Clause:**\n",
        "Filters individual rows before they are grouped.\n",
        "Cannot use aggregate functions (like SUM, AVG, COUNT) directly within the WHERE clause.\n",
        "\n",
        "**HAVING Clause:**\n",
        "Filters groups of rows after they have been aggregated.\n",
        "Can use aggregate functions to filter groups based on their aggregated values"
      ],
      "metadata": {
        "id": "S3hAWRbzOjpf"
      }
    },
    {
      "cell_type": "markdown",
      "source": [
        "4. How do you use GROUP BY and HAVING in a query?"
      ],
      "metadata": {
        "id": "JCK1CiBcPGaW"
      }
    },
    {
      "cell_type": "code",
      "source": [
        "SELECT CustomerID, SUM(Amount) AS TotalSales\n",
        "FROM Sales\n",
        "WHERE TotalSales > 200\n",
        "GROUP BY CustomerID;"
      ],
      "metadata": {
        "id": "waQPyforO9BR"
      },
      "execution_count": null,
      "outputs": []
    },
    {
      "cell_type": "code",
      "source": [
        "SELECT CustomerID, SUM(Amount) AS TotalSales\n",
        "FROM Sales\n",
        "GROUP BY CustomerID\n",
        "HAVING TotalSales > 200;"
      ],
      "metadata": {
        "id": "g8LTo4WdO-Tx"
      },
      "execution_count": null,
      "outputs": []
    },
    {
      "cell_type": "markdown",
      "source": [
        "5. Write a query to find duplicate records in a table.\n"
      ],
      "metadata": {
        "id": "PID-QSY2O2de"
      }
    },
    {
      "cell_type": "code",
      "source": [
        "SELECT FirstName, LastName\n",
        "FROM Customers\n",
        "GROUP BY FirstName, LastName\n",
        "HAVING COUNT(*) > 1;"
      ],
      "metadata": {
        "id": "qKbaH2qcPSDj"
      },
      "execution_count": null,
      "outputs": []
    },
    {
      "cell_type": "markdown",
      "source": [
        "HAVING COUNT(*) > 1: This filters the groups, keeping only those where the count of rows in the group is greater than one. This identifies groups with duplicate values."
      ],
      "metadata": {
        "id": "W2Ol9fPnPTRt"
      }
    },
    {
      "cell_type": "markdown",
      "source": [
        "6. How do you retrieve unique values from a table using SQL?\n",
        "\n",
        "Ans. Using **SQL DISTINCT Keyword**\n",
        "\n",
        "The DISTINCT keyword in SQL is used to eliminate duplicate rows from the result-set of a SELECT statement."
      ],
      "metadata": {
        "id": "I57E3r1XPdFB"
      }
    },
    {
      "cell_type": "code",
      "source": [
        "SELECT DISTINCT City\n",
        "FROM Customers;"
      ],
      "metadata": {
        "id": "7DLtdqIwPqnq"
      },
      "execution_count": null,
      "outputs": []
    },
    {
      "cell_type": "markdown",
      "source": [
        "7. Explain the use of aggregate functions like COUNT(), SUM(), AVG(), MIN(), and MAX().\n",
        "\n",
        "Ans.**COUNT()**: Counts the number of rows or non-NULL values in a specified column.\n",
        "\n",
        "**SUM():**Calculates the sum of all values in a specified column.\n",
        "\n",
        "**AVG():** Calculates the average (mean) of all values in a specified column.\n",
        "\n",
        "**MIN():** Finds the minimum value in a specified column.\n",
        "\n",
        "**MAX():** Finds the maximum value in a specified column."
      ],
      "metadata": {
        "id": "kXlyKbnjPyKI"
      }
    },
    {
      "cell_type": "code",
      "source": [
        "SELECT COUNT(*) AS TotalOrders\n",
        "FROM Orders;\n",
        "\n",
        "SELECT SUM(TotalAmount) AS TotalSales\n",
        "FROM Orders;\n",
        "\n",
        "SELECT AVG(TotalAmount) AS AvgOrderAmount\n",
        "FROM Orders;\n",
        "\n",
        "SELECT MAX(OrderDate) AS LatestOrderDate\n",
        "FROM Orders;"
      ],
      "metadata": {
        "id": "8Lxu417pQgIj"
      },
      "execution_count": null,
      "outputs": []
    },
    {
      "cell_type": "markdown",
      "source": [
        "8. What is the purpose of a DISTINCT keyword in SQL?\n",
        "\n",
        "Ans. The DISTINCT keyword in SQL is used to eliminate duplicate rows from the result-set of a SELECT statement.\n",
        "\n",
        "**Retrieve Unique Values:** It ensures that only unique values are returned for the specified column(s).\n",
        "**Data Cleaning:** Helps remove redundant data, making your results more concise and easier to analyze."
      ],
      "metadata": {
        "id": "TiW9RdqAQqrE"
      }
    }
  ]
}