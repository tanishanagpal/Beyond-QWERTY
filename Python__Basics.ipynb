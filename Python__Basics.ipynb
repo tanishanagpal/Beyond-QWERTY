{
  "nbformat": 4,
  "nbformat_minor": 0,
  "metadata": {
    "colab": {
      "provenance": []
    },
    "kernelspec": {
      "name": "python3",
      "display_name": "Python 3"
    },
    "language_info": {
      "name": "python"
    }
  },
  "cells": [
    {
      "cell_type": "markdown",
      "source": [
        "**Calculate the Square Root**"
      ],
      "metadata": {
        "id": "lrTpwvQIAVMl"
      }
    },
    {
      "cell_type": "code",
      "source": [
        "num = 8\n",
        "num_sqrt = num ** 0.5\n",
        "print('The square root of %0.3f is %0.3f'%(num ,num_sqrt))"
      ],
      "metadata": {
        "colab": {
          "base_uri": "https://localhost:8080/"
        },
        "id": "pTQCVdmtAOaG",
        "outputId": "896b72c2-a777-4da5-a7ad-98a8909fb48d"
      },
      "execution_count": null,
      "outputs": [
        {
          "output_type": "stream",
          "name": "stdout",
          "text": [
            "The square root of 8.000 is 2.828\n"
          ]
        }
      ]
    },
    {
      "cell_type": "markdown",
      "source": [
        "**Check if year is a leap year or not**"
      ],
      "metadata": {
        "id": "RnRN-opjAean"
      }
    },
    {
      "cell_type": "code",
      "source": [
        "year = 2000\n",
        "\n",
        "if (year % 400 == 0) and (year % 100 == 0):\n",
        "    print(\"{0} is a leap year\".format(year))\n",
        "\n",
        "elif (year % 4 ==0) and (year % 100 != 0):\n",
        "    print(\"{0} is a leap year\".format(year))\n",
        "\n",
        "else:\n",
        "    print(\"{0} is not a leap year\".format(year))"
      ],
      "metadata": {
        "colab": {
          "base_uri": "https://localhost:8080/"
        },
        "id": "flOJOGowAeGX",
        "outputId": "a2c454b8-0b82-464f-f551-4b815ca7eedd"
      },
      "execution_count": null,
      "outputs": [
        {
          "output_type": "stream",
          "name": "stdout",
          "text": [
            "2000 is a leap year\n"
          ]
        }
      ]
    },
    {
      "cell_type": "markdown",
      "source": [
        "**Find the factorial of a number**"
      ],
      "metadata": {
        "id": "F1SDJM7-BLi5"
      }
    },
    {
      "cell_type": "code",
      "source": [
        "def factorial(x):\n",
        "\n",
        "    if x == 1 or x == 0:\n",
        "        return 1\n",
        "    else:\n",
        "        # recursive call to the function\n",
        "        return (x * factorial(x-1))\n",
        "\n",
        "num = 7\n",
        "result = factorial(num)\n",
        "print(\"The factorial of\", num, \"is\", result)"
      ],
      "metadata": {
        "colab": {
          "base_uri": "https://localhost:8080/"
        },
        "id": "UkmQ-SOEBIMt",
        "outputId": "ef8aa24c-ebcb-47e4-b401-e82dad346488"
      },
      "execution_count": null,
      "outputs": [
        {
          "output_type": "stream",
          "name": "stdout",
          "text": [
            "The factorial of 7 is 5040\n"
          ]
        }
      ]
    },
    {
      "cell_type": "markdown",
      "source": [
        "**Print the Fibonacci sequence**"
      ],
      "metadata": {
        "id": "mB1Bq9IOBy1r"
      }
    },
    {
      "cell_type": "code",
      "source": [
        "def recur_fibo(n):\n",
        "   if n <= 1:\n",
        "       return n\n",
        "   else:\n",
        "       return(recur_fibo(n-1) + recur_fibo(n-2))\n",
        "\n",
        "nterms = 10\n",
        "if nterms <= 0:\n",
        "   print(\"Plese enter a positive integer\")\n",
        "else:\n",
        "   print(\"Fibonacci sequence:\")\n",
        "   for i in range(nterms):\n",
        "       print(recur_fibo(i))"
      ],
      "metadata": {
        "colab": {
          "base_uri": "https://localhost:8080/"
        },
        "id": "rUHT2iXDBt9u",
        "outputId": "0e64a81d-d594-488b-f633-c32366b24e5b"
      },
      "execution_count": null,
      "outputs": [
        {
          "output_type": "stream",
          "name": "stdout",
          "text": [
            "Fibonacci sequence:\n",
            "0\n",
            "1\n",
            "1\n",
            "2\n",
            "3\n",
            "5\n",
            "8\n",
            "13\n",
            "21\n",
            "34\n"
          ]
        }
      ]
    },
    {
      "cell_type": "markdown",
      "source": [
        "**Check if the number is an Armstrong number or not**"
      ],
      "metadata": {
        "id": "1g0Lwwo5CFor"
      }
    },
    {
      "cell_type": "code",
      "source": [
        "num = int(input(\"Enter a number: \"))\n",
        "sum = 0\n",
        "temp = num\n",
        "while temp > 0:\n",
        "   digit = temp % 10\n",
        "   sum += digit ** 3\n",
        "   temp //= 10\n",
        "\n",
        "if num == sum:\n",
        "   print(num,\"is an Armstrong number\")\n",
        "else:\n",
        "   print(num,\"is not an Armstrong number\")\n"
      ],
      "metadata": {
        "colab": {
          "base_uri": "https://localhost:8080/"
        },
        "id": "rTsrkmEeCDaa",
        "outputId": "357245a4-687a-48c7-d769-cb547a00b076"
      },
      "execution_count": null,
      "outputs": [
        {
          "output_type": "stream",
          "name": "stdout",
          "text": [
            "Enter a number: 153\n",
            "153 is an Armstrong number\n"
          ]
        }
      ]
    },
    {
      "cell_type": "markdown",
      "source": [
        "# Array Programs"
      ],
      "metadata": {
        "id": "fDEFRno0_Goc"
      }
    },
    {
      "cell_type": "markdown",
      "source": [
        "**Find Largest Element in an Array**"
      ],
      "metadata": {
        "id": "uZ8zcWBj_RCd"
      }
    },
    {
      "cell_type": "code",
      "execution_count": null,
      "metadata": {
        "colab": {
          "base_uri": "https://localhost:8080/"
        },
        "id": "V4E_mtRh-bwg",
        "outputId": "3dc8fb3e-dcb4-4ffb-d918-6d41cc2277d6"
      },
      "outputs": [
        {
          "output_type": "stream",
          "name": "stdout",
          "text": [
            "Largest in given array  9808\n"
          ]
        }
      ],
      "source": [
        "def largest(arr, n):\n",
        "\n",
        "\t# Initialize maximum element\n",
        "\tmax = arr[0]\n",
        "\n",
        "#Traverse array elements from second and compare every element with current max\n",
        "\n",
        "\tfor i in range(1, n):\n",
        "\t\tif arr[i] > max:\n",
        "\t\t\tmax = arr[i]\n",
        "\treturn max\n",
        "\n",
        "arr = [10, 324, 45, 90, 9808]\n",
        "n = len(arr)\n",
        "Ans = largest(arr, n)\n",
        "print(\"Largest in given array \", Ans)\n"
      ]
    },
    {
      "cell_type": "markdown",
      "source": [
        "**Find sum of elements in given array**"
      ],
      "metadata": {
        "id": "6ctlrXfa_k0p"
      }
    },
    {
      "cell_type": "code",
      "source": [
        "def _sum(arr):\n",
        "\tsum = 0\n",
        "\tfor i in arr:\n",
        "\t\tsum = sum + i\n",
        "\n",
        "\treturn(sum)\n",
        "\n",
        "arr = [12, 3, 4, 15]\n",
        "n = len(arr)\n",
        "ans = _sum(arr)\n",
        "print('Sum of the array is ', ans)"
      ],
      "metadata": {
        "colab": {
          "base_uri": "https://localhost:8080/"
        },
        "id": "qbpw0TUD_XBX",
        "outputId": "906e41ff-5a4b-4f39-a095-c8b21c44da38"
      },
      "execution_count": null,
      "outputs": [
        {
          "output_type": "stream",
          "name": "stdout",
          "text": [
            "Sum of the array is  34\n"
          ]
        }
      ]
    },
    {
      "cell_type": "markdown",
      "source": [
        "**Slicing in Arrays**"
      ],
      "metadata": {
        "id": "WLE0H9u9Ez6H"
      }
    },
    {
      "cell_type": "code",
      "source": [
        "import array as arr\n",
        "\n",
        "numbers_list = [2, 5, 62, 5, 42, 52, 48, 5]\n",
        "numbers_array = arr.array('i', numbers_list)\n",
        "\n",
        "print(numbers_array[2:5]) # 3rd to 5th\n",
        "print(numbers_array[:-5]) # beginning to 4th\n",
        "print(numbers_array[5:])  # 6th to end\n",
        "print(numbers_array[:])   # beginning to end"
      ],
      "metadata": {
        "colab": {
          "base_uri": "https://localhost:8080/"
        },
        "id": "WlTc-0JLEs7g",
        "outputId": "83a2d71d-3a70-40ac-ec4d-f2cfa3df6618"
      },
      "execution_count": null,
      "outputs": [
        {
          "output_type": "stream",
          "name": "stdout",
          "text": [
            "array('i', [62, 5, 42])\n",
            "array('i', [2, 5, 62])\n",
            "array('i', [52, 48, 5])\n",
            "array('i', [2, 5, 62, 5, 42, 52, 48, 5])\n"
          ]
        }
      ]
    },
    {
      "cell_type": "markdown",
      "source": [
        "**Replacing the element at a particular index**"
      ],
      "metadata": {
        "id": "S1e8ZvOUvn7N"
      }
    },
    {
      "cell_type": "code",
      "source": [
        "import array as arr\n",
        "\n",
        "numbers = arr.array('i', [1, 2, 3, 5, 7, 10])\n",
        "\n",
        "# changing first element\n",
        "numbers[0] = 0\n",
        "print(numbers)\n",
        "\n",
        "# changing 3rd to 5th element\n",
        "numbers[2:5] = arr.array('i', [4, 6, 8])\n",
        "print(numbers)"
      ],
      "metadata": {
        "colab": {
          "base_uri": "https://localhost:8080/"
        },
        "id": "pwflCllPE6tQ",
        "outputId": "98266763-85b6-478b-9845-2946ff4cf8a7"
      },
      "execution_count": null,
      "outputs": [
        {
          "output_type": "stream",
          "name": "stdout",
          "text": [
            "array('i', [0, 2, 3, 5, 7, 10])\n",
            "array('i', [0, 2, 4, 6, 8, 10])\n"
          ]
        }
      ]
    },
    {
      "cell_type": "markdown",
      "source": [
        "**Adding an element or elements in an array**"
      ],
      "metadata": {
        "id": "yrm8EucMvxe9"
      }
    },
    {
      "cell_type": "code",
      "source": [
        "import array as arr\n",
        "\n",
        "numbers = arr.array('i', [1, 2, 3])\n",
        "\n",
        "numbers.append(4)\n",
        "print(numbers)\n",
        "\n",
        "numbers.extend([5, 6, 7])\n",
        "print(numbers)"
      ],
      "metadata": {
        "colab": {
          "base_uri": "https://localhost:8080/"
        },
        "id": "6vq3RHxWFNCz",
        "outputId": "f561f04d-2a0e-44e8-9bd0-786c837d8a37"
      },
      "execution_count": null,
      "outputs": [
        {
          "output_type": "stream",
          "name": "stdout",
          "text": [
            "array('i', [1, 2, 3, 4])\n",
            "array('i', [1, 2, 3, 4, 5, 6, 7])\n"
          ]
        }
      ]
    },
    {
      "cell_type": "markdown",
      "source": [
        "#List Programs"
      ],
      "metadata": {
        "id": "c8HVncTGGii5"
      }
    },
    {
      "cell_type": "markdown",
      "source": [
        "**Add Elements to a List From Other Iterables**"
      ],
      "metadata": {
        "id": "AtimnQWhGnOU"
      }
    },
    {
      "cell_type": "code",
      "source": [
        "numbers = [1, 3, 5]\n",
        "print('Numbers:', numbers)\n",
        "\n",
        "even_numbers  = [2, 4, 6]\n",
        "print('Even numbers:', numbers)\n",
        "\n",
        "numbers.extend(even_numbers)\n",
        "\n",
        "print('Updated Numbers:', numbers)"
      ],
      "metadata": {
        "colab": {
          "base_uri": "https://localhost:8080/"
        },
        "id": "-8leRnfNGlqe",
        "outputId": "bd53d1b0-9854-40ac-f787-d9a8df9a265d"
      },
      "execution_count": null,
      "outputs": [
        {
          "output_type": "stream",
          "name": "stdout",
          "text": [
            "Numbers: [1, 3, 5]\n",
            "Even numbers: [1, 3, 5]\n",
            "Updated Numbers: [1, 3, 5, 2, 4, 6]\n"
          ]
        }
      ]
    },
    {
      "cell_type": "markdown",
      "source": [
        "**Add Elements at the Specified Index in a list**"
      ],
      "metadata": {
        "id": "qos5KLvTHX4F"
      }
    },
    {
      "cell_type": "code",
      "source": [
        "fruits = ['apple', 'banana', 'orange']\n",
        "print(\"Original List:\", fruits)\n",
        "\n",
        "fruits.insert(2, 'cherry')\n",
        "\n",
        "print(\"Updated List:\", fruits)"
      ],
      "metadata": {
        "colab": {
          "base_uri": "https://localhost:8080/"
        },
        "id": "R8DVTZTrHcZN",
        "outputId": "d6a39512-4415-49e4-8994-b0dd6e009f68"
      },
      "execution_count": null,
      "outputs": [
        {
          "output_type": "stream",
          "name": "stdout",
          "text": [
            "Original List: ['apple', 'banana', 'orange']\n",
            "Updated List: ['apple', 'banana', 'cherry', 'orange']\n"
          ]
        }
      ]
    },
    {
      "cell_type": "markdown",
      "source": [
        "**Remove an element from the list**"
      ],
      "metadata": {
        "id": "31ppxrizb-C2"
      }
    },
    {
      "cell_type": "code",
      "source": [
        "a = [10, 20, 30, 40, 50]\n",
        "a.remove(30)\n",
        "print(a)"
      ],
      "metadata": {
        "colab": {
          "base_uri": "https://localhost:8080/"
        },
        "id": "AC6hZmjUHgXA",
        "outputId": "ec88c603-e5b1-454f-d071-9d5c397ec1e3"
      },
      "execution_count": null,
      "outputs": [
        {
          "output_type": "stream",
          "name": "stdout",
          "text": [
            "[10, 20, 40, 50]\n"
          ]
        }
      ]
    },
    {
      "cell_type": "markdown",
      "source": [
        "**Check for the duplicate values ina list**"
      ],
      "metadata": {
        "id": "r4HtLlmFcG9V"
      }
    },
    {
      "cell_type": "code",
      "source": [
        "a = [1, 2, 2, 3, 4, 4, 5]\n",
        "res = []\n",
        "for val in a:\n",
        "  if val not in res:\n",
        "    res.append(val)\n",
        "print(res)"
      ],
      "metadata": {
        "colab": {
          "base_uri": "https://localhost:8080/"
        },
        "id": "qZoNUOaFIC-w",
        "outputId": "bf609ff2-a63d-4606-a7bc-a4bfea68e536"
      },
      "execution_count": null,
      "outputs": [
        {
          "output_type": "stream",
          "name": "stdout",
          "text": [
            "[1, 2, 3, 4, 5]\n"
          ]
        }
      ]
    },
    {
      "cell_type": "markdown",
      "source": [
        "#String Programs"
      ],
      "metadata": {
        "id": "n_vEiSyTcizj"
      }
    },
    {
      "cell_type": "markdown",
      "source": [
        "**Reverse Words in a Given String**"
      ],
      "metadata": {
        "id": "kEoVaGj5e_pP"
      }
    },
    {
      "cell_type": "code",
      "source": [
        "s = \"Geeks for Geeks\"\n",
        "reversed_words = ' '.join(s.split()[::-1])\n",
        "print(reversed_words)"
      ],
      "metadata": {
        "colab": {
          "base_uri": "https://localhost:8080/"
        },
        "id": "b7r08_FHclwe",
        "outputId": "bbc2f1f9-bfb8-4c81-e1e1-1bd094424f74"
      },
      "execution_count": null,
      "outputs": [
        {
          "output_type": "stream",
          "name": "stdout",
          "text": [
            "Geeks for Geeks\n"
          ]
        }
      ]
    },
    {
      "cell_type": "markdown",
      "source": [
        "**Remove Letters From a String**"
      ],
      "metadata": {
        "id": "coYb5Y8ff_Y5"
      }
    },
    {
      "cell_type": "code",
      "source": [
        "s = \"hello world\"\n",
        "s = s.replace(\"l\", \"\")\n",
        "print(s)"
      ],
      "metadata": {
        "colab": {
          "base_uri": "https://localhost:8080/"
        },
        "id": "BdNKYuNFfHKu",
        "outputId": "83d0708b-1177-483a-a20c-03baadd0b0c1"
      },
      "execution_count": null,
      "outputs": [
        {
          "output_type": "stream",
          "name": "stdout",
          "text": [
            "heo word\n"
          ]
        }
      ]
    },
    {
      "cell_type": "markdown",
      "source": [
        "**Maximum frequency character in String**"
      ],
      "metadata": {
        "id": "VrAczHpygpwY"
      }
    },
    {
      "cell_type": "code",
      "source": [
        "test_str = \"GeeksforGeeks\"\n",
        "print (\"The original string is : \" + test_str)\n",
        "all_freq = {}\n",
        "for i in test_str:\n",
        "  if i in all_freq:\n",
        "    all_freq[i] += 1\n",
        "  else:\n",
        "    all_freq[i] = 1\n",
        "res = max(all_freq, key = all_freq.get)\n",
        "\n",
        "print (\"The maximum of all characters in GeeksforGeeks is : \" + str(res))\n"
      ],
      "metadata": {
        "colab": {
          "base_uri": "https://localhost:8080/"
        },
        "id": "Fo27srA0gCe5",
        "outputId": "793ed359-b763-43cd-aa60-4c44cd2dc3db"
      },
      "execution_count": null,
      "outputs": [
        {
          "output_type": "stream",
          "name": "stdout",
          "text": [
            "The original string is : GeeksforGeeks\n",
            "The maximum of all characters in GeeksforGeeks is : e\n"
          ]
        }
      ]
    },
    {
      "cell_type": "markdown",
      "source": [
        "**Find words which are greater than given length k**"
      ],
      "metadata": {
        "id": "oDPPCV0HhFdb"
      }
    },
    {
      "cell_type": "code",
      "source": [
        "def string_k(k, str):\n",
        "\tstring = []\n",
        "\ttext = str.split(\" \")\n",
        "\tfor x in text:\n",
        "\t\tif len(x) > k:\n",
        "\t\t\tstring.append(x)\n",
        "\treturn string\n",
        "\n",
        "k = 3\n",
        "str = \"geek for geeks\"\n",
        "print(string_k(k, str))"
      ],
      "metadata": {
        "colab": {
          "base_uri": "https://localhost:8080/"
        },
        "id": "oKvmNYYXgr5d",
        "outputId": "35ea6ea6-8bb9-4980-e657-4b445058bc44"
      },
      "execution_count": null,
      "outputs": [
        {
          "output_type": "stream",
          "name": "stdout",
          "text": [
            "['geek', 'geeks']\n"
          ]
        }
      ]
    },
    {
      "cell_type": "markdown",
      "source": [
        "**Print the middle character of a string**"
      ],
      "metadata": {
        "id": "gpdBYsfGh2jT"
      }
    },
    {
      "cell_type": "code",
      "source": [
        "def printMiddleCharacter(str):\n",
        "\tlength = len(str);\n",
        "\tmiddle = length // 2;\n",
        "\tprint(str[middle]);\n",
        "\n",
        "str = \"GeeksForGeeks\";\n",
        "printMiddleCharacter(str);"
      ],
      "metadata": {
        "colab": {
          "base_uri": "https://localhost:8080/"
        },
        "id": "4TlW0oe6hV56",
        "outputId": "3a2394e8-3f13-4276-dac1-1be4ecf64b5b"
      },
      "execution_count": null,
      "outputs": [
        {
          "output_type": "stream",
          "name": "stdout",
          "text": [
            "o\n"
          ]
        }
      ]
    },
    {
      "cell_type": "markdown",
      "source": [
        "#Tuple Programs"
      ],
      "metadata": {
        "id": "WRGqW61likNb"
      }
    },
    {
      "cell_type": "markdown",
      "source": [
        "**Sum of tuple elements**"
      ],
      "metadata": {
        "id": "2vvGsd5alrOI"
      }
    },
    {
      "cell_type": "code",
      "source": [
        "def summation(test_tup):\n",
        "\ttest = list(test_tup)\n",
        "\tcount = 0\n",
        "\tfor i in test:\n",
        "\t\tcount += i\n",
        "\treturn count\n",
        "test_tup = (5, 20, 3, 7, 6, 8)\n",
        "print(summation(test_tup))\n"
      ],
      "metadata": {
        "colab": {
          "base_uri": "https://localhost:8080/"
        },
        "id": "R-POgHbQint6",
        "outputId": "d52eaab4-363a-43ec-a69b-937c31e15b08"
      },
      "execution_count": null,
      "outputs": [
        {
          "output_type": "stream",
          "name": "stdout",
          "text": [
            "49\n"
          ]
        }
      ]
    },
    {
      "cell_type": "markdown",
      "source": [
        "**Join Tuples if similar initial element**"
      ],
      "metadata": {
        "id": "4dQGDGcY5xWj"
      }
    },
    {
      "cell_type": "code",
      "source": [
        "test_list = [(5, 6), (5, 7), (6, 8), (6, 10), (7, 13)]\n",
        "print(test_list)\n",
        "res = []\n",
        "for sub in test_list:\n",
        "    if res and res[-1][0] == sub[0]:\n",
        "        temp = list(res[-1])\n",
        "        temp.append(sub[1])\n",
        "        res[-1] = tuple(temp)\n",
        "    else:\n",
        "        res.append(sub)\n",
        "\n",
        "print(f\"The extracted elements: {res}\")"
      ],
      "metadata": {
        "colab": {
          "base_uri": "https://localhost:8080/"
        },
        "id": "4NBIAoCtlvpi",
        "outputId": "89ae9cad-c678-465b-eaca-2aff404499f0"
      },
      "execution_count": null,
      "outputs": [
        {
          "output_type": "stream",
          "name": "stdout",
          "text": [
            "[(5, 6), (5, 7), (6, 8), (6, 10), (7, 13)]\n",
            "The extracted elements: [(5, 6, 7), (6, 8, 10), (7, 13)]\n"
          ]
        }
      ]
    },
    {
      "cell_type": "markdown",
      "source": [
        "**All pair combinations of 2 tuples**"
      ],
      "metadata": {
        "id": "Le4s5C_Q7htM"
      }
    },
    {
      "cell_type": "code",
      "source": [
        "test_tuple1 = (4, 5)\n",
        "test_tuple2 = (7, 8)\n",
        "\n",
        "print(f\"The original tuple 1: {test_tuple1}\")\n",
        "print(f\"The original tuple 2: {test_tuple2}\")\n",
        "\n",
        "res = [(a, b) for a in test_tuple1 for b in test_tuple2]\n",
        "res = res + [(a, b) for a in test_tuple2 for b in test_tuple1]\n",
        "print(f\"All possible pairs: {res}\")"
      ],
      "metadata": {
        "colab": {
          "base_uri": "https://localhost:8080/"
        },
        "id": "ruH-raqY5rzF",
        "outputId": "08dc26f3-7cf9-4aa4-bed1-e73d0f4ec562"
      },
      "execution_count": null,
      "outputs": [
        {
          "output_type": "stream",
          "name": "stdout",
          "text": [
            "The original tuple 1: (4, 5)\n",
            "The original tuple 2: (7, 8)\n",
            "All possible pairs: [(4, 7), (4, 8), (5, 7), (5, 8), (7, 4), (7, 5), (8, 4), (8, 5)]\n"
          ]
        }
      ]
    },
    {
      "cell_type": "markdown",
      "source": [
        "**Modulo of tuple elements**"
      ],
      "metadata": {
        "id": "vQqjYqYL8G3e"
      }
    },
    {
      "cell_type": "code",
      "source": [
        "test_tuple1 = (4, 5)\n",
        "test_tuple2 = (7, 8)\n",
        "\n",
        "print(f\"The original tuple 1: {test_tuple1}\")\n",
        "print(f\"The original tuple 2: {test_tuple2}\")\n",
        "\n",
        "res = [(a, b) for a in test_tuple1 for b in test_tuple2]\n",
        "res = res + [(a, b) for a in test_tuple2 for b in test_tuple1]"
      ],
      "metadata": {
        "colab": {
          "base_uri": "https://localhost:8080/"
        },
        "id": "-7cmH46Y7mD6",
        "outputId": "21b6d485-286a-4a9d-f00f-9966f7a0b1d8"
      },
      "execution_count": null,
      "outputs": [
        {
          "output_type": "stream",
          "name": "stdout",
          "text": [
            "The original tuple 1: (4, 5)\n",
            "The original tuple 2: (7, 8)\n"
          ]
        }
      ]
    },
    {
      "cell_type": "markdown",
      "source": [
        "#Dictionary Programs"
      ],
      "metadata": {
        "id": "51yqcHWo8Oor"
      }
    },
    {
      "cell_type": "markdown",
      "source": [
        "**Extract Unique Dictionary values**"
      ],
      "metadata": {
        "id": "bG9_qkEoOsDI"
      }
    },
    {
      "cell_type": "code",
      "source": [
        "test_dict = {'gfg': [5, 6, 7, 8],\n",
        "\t\t\t'is': [10, 11, 7, 5],\n",
        "\t\t\t'best': [6, 12, 10, 8],\n",
        "\t\t\t'for': [1, 2, 5]}\n",
        "\n",
        "print(\"The original dictionary is : \" + str(test_dict))\n",
        "res = list(sorted({ele for val in test_dict.values() for ele in val}))\n",
        "print(\"The unique values list is : \" + str(res))"
      ],
      "metadata": {
        "colab": {
          "base_uri": "https://localhost:8080/"
        },
        "id": "90wac3QV8Sd-",
        "outputId": "e973d5bc-79cf-4026-f33d-a7550dfc94b4"
      },
      "execution_count": null,
      "outputs": [
        {
          "output_type": "stream",
          "name": "stdout",
          "text": [
            "The original dictionary is : {'gfg': [5, 6, 7, 8], 'is': [10, 11, 7, 5], 'best': [6, 12, 10, 8], 'for': [1, 2, 5]}\n",
            "The unique values list is : [1, 2, 5, 6, 7, 8, 10, 11, 12]\n"
          ]
        }
      ]
    },
    {
      "cell_type": "markdown",
      "source": [
        "**Find the sum of all items in a dictionary**"
      ],
      "metadata": {
        "id": "jDVIlwZSOya1"
      }
    },
    {
      "cell_type": "code",
      "source": [
        "def returnSum(myDict):\n",
        "\n",
        "\tlist = []\n",
        "\tfor i in myDict:\n",
        "\t\tlist.append(myDict[i])\n",
        "\tfinal = sum(list)\n",
        "\n",
        "\treturn final\n",
        "dict = {'a': 100, 'b': 200, 'c': 300}\n",
        "print(\"Sum :\", returnSum(dict))\n"
      ],
      "metadata": {
        "colab": {
          "base_uri": "https://localhost:8080/"
        },
        "id": "CSB_tfzOOmkf",
        "outputId": "77e21d26-12df-4f7f-c965-7e1888b8ba41"
      },
      "execution_count": null,
      "outputs": [
        {
          "output_type": "stream",
          "name": "stdout",
          "text": [
            "Sum : 600\n"
          ]
        }
      ]
    },
    {
      "cell_type": "markdown",
      "source": [
        "**Counter in Python to find winner of election**"
      ],
      "metadata": {
        "id": "huzscXDoUjxF"
      }
    },
    {
      "cell_type": "code",
      "source": [
        "from collections import Counter\n",
        "\n",
        "def winner(input):\n",
        "\n",
        "\tvotes = Counter(input)\n",
        "\tdict = {}\n",
        "\n",
        "\tfor value in votes.values():\n",
        "\t\tdict[value] = []\n",
        "\n",
        "\tfor (key,value) in votes.items():\n",
        "\t\tdict[value].append(key)\n",
        "\n",
        "\tmaxVote = sorted(dict.keys(),reverse=True)[0]\n",
        "\n",
        "\tif len(dict[maxVote])>1:\n",
        "\t\tprint (sorted(dict[maxVote])[0])\n",
        "\telse:\n",
        "\t\tprint (dict[maxVote][0])\n",
        "\n",
        "if __name__ == \"__main__\":\n",
        "\tinput =['john','johnny','jackie','johnny',\n",
        "\t\t\t'john','jackie','jamie','jamie',\n",
        "\t\t\t'john','johnny','jamie','johnny',\n",
        "\t\t\t'john']\n",
        "\twinner(input)"
      ],
      "metadata": {
        "colab": {
          "base_uri": "https://localhost:8080/"
        },
        "id": "NE6WM_zGPhCD",
        "outputId": "d575d719-799c-4301-de8f-476bb39074f8"
      },
      "execution_count": null,
      "outputs": [
        {
          "output_type": "stream",
          "name": "stdout",
          "text": [
            "john\n"
          ]
        }
      ]
    },
    {
      "cell_type": "markdown",
      "source": [
        "**Append Dictionary Keys and Values ( In order )**"
      ],
      "metadata": {
        "id": "kX9GbYDuTYbv"
      }
    },
    {
      "cell_type": "code",
      "source": [
        "test_dict = {\"Gfg\" : 1, \"is\" : 3, \"Best\" : 2}\n",
        "print(\"The original dictionary is : \" + str(test_dict))\n",
        "res = list(test_dict.keys()) + list(test_dict.values())\n",
        "print(\"The ordered keys and values : \" + str(res))\n"
      ],
      "metadata": {
        "colab": {
          "base_uri": "https://localhost:8080/"
        },
        "id": "eeeKc1ejP5b_",
        "outputId": "6ab1b058-1a75-4b52-c6ec-107b2705c1b2"
      },
      "execution_count": null,
      "outputs": [
        {
          "output_type": "stream",
          "name": "stdout",
          "text": [
            "The original dictionary is : {'Gfg': 1, 'is': 3, 'Best': 2}\n",
            "The ordered keys and values : ['Gfg', 'is', 'Best', 1, 3, 2]\n"
          ]
        }
      ]
    }
  ]
}